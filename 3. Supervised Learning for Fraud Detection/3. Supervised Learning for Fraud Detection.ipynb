{
 "cells": [
  {
   "cell_type": "markdown",
   "id": "35a3abbe",
   "metadata": {},
   "source": [
    "# Supervised Learning for Fraud Detection"
   ]
  },
  {
   "cell_type": "markdown",
   "id": "ac411fae",
   "metadata": {},
   "source": [
    "In this video, we will walk through a comprehensive process of applying supervised machine learning alogrithms using real-life data. We will train test and evaluate the following algorithms:\n",
    "\n",
    "1. Logistic Regression\n",
    "2. Decision Trees\n",
    "3. Naive Bayes Classifier\n",
    "\n"
   ]
  },
  {
   "cell_type": "markdown",
   "id": "7f0c9140",
   "metadata": {},
   "source": [
    "# Import necessary libraries"
   ]
  },
  {
   "cell_type": "code",
   "execution_count": 1,
   "id": "d8c89aab",
   "metadata": {},
   "outputs": [],
   "source": [
    "# Import necessary libraries\n",
    "import pandas as pd\n",
    "import numpy as np\n",
    "from sklearn.model_selection import train_test_split\n",
    "from sklearn.linear_model import LogisticRegression\n",
    "from sklearn.tree import DecisionTreeClassifier\n",
    "from sklearn.svm import SVC\n",
    "from sklearn.naive_bayes import GaussianNB\n",
    "from sklearn.neural_network import MLPClassifier\n",
    "from sklearn.metrics import accuracy_score, precision_score, recall_score, f1_score, roc_auc_score, roc_curve\n",
    "from sklearn.model_selection import GridSearchCV\n",
    "import matplotlib.pyplot as plt"
   ]
  },
  {
   "cell_type": "markdown",
   "id": "227ef8f9",
   "metadata": {},
   "source": [
    "# Import the dataset"
   ]
  },
  {
   "cell_type": "code",
   "execution_count": 2,
   "id": "c6adcbec",
   "metadata": {},
   "outputs": [
    {
     "name": "stdout",
     "output_type": "stream",
     "text": [
      "          Time        V1        V2        V3        V4        V5        V6  \\\n",
      "0          0.0 -1.359807 -0.072781  2.536347  1.378155 -0.338321  0.462388   \n",
      "1          0.0  1.191857  0.266151  0.166480  0.448154  0.060018 -0.082361   \n",
      "2          1.0 -1.358354 -1.340163  1.773209  0.379780 -0.503198  1.800499   \n",
      "3          1.0 -0.966272 -0.185226  1.792993 -0.863291 -0.010309  1.247203   \n",
      "4          2.0 -1.158233  0.877737  1.548718  0.403034 -0.407193  0.095921   \n",
      "...        ...       ...       ...       ...       ...       ...       ...   \n",
      "59995  49104.0 -1.179821 -0.409590  1.193034 -0.857986 -0.994028  0.013890   \n",
      "59996  49104.0  1.017824  0.030460  0.592427  1.037257 -0.155280  0.291684   \n",
      "59997  49104.0  1.019115 -0.332555  1.453262  1.196906 -1.215788  0.327464   \n",
      "59998  49104.0  1.149634  0.144853  0.349882  0.591884 -0.360690 -0.428566   \n",
      "59999  49105.0 -2.154248  1.552585 -0.495473  0.143035 -0.736862  0.692048   \n",
      "\n",
      "             V7        V8        V9  ...       V21       V22       V23  \\\n",
      "0      0.239599  0.098698  0.363787  ... -0.018307  0.277838 -0.110474   \n",
      "1     -0.078803  0.085102 -0.255425  ... -0.225775 -0.638672  0.101288   \n",
      "2      0.791461  0.247676 -1.514654  ...  0.247998  0.771679  0.909412   \n",
      "3      0.237609  0.377436 -1.387024  ... -0.108300  0.005274 -0.190321   \n",
      "4      0.592941 -0.270533  0.817739  ... -0.009431  0.798278 -0.137458   \n",
      "...         ...       ...       ...  ...       ...       ...       ...   \n",
      "59995  1.852891 -0.129020  0.107706  ...  0.144079 -0.066047  0.497649   \n",
      "59996 -0.136690  0.153424 -0.212684  ... -0.088874 -0.381237  0.025885   \n",
      "59997 -1.061388  0.514961  0.761477  ...  0.326159  0.826480 -0.010893   \n",
      "59998 -0.186583  0.152342 -0.020862  ... -0.210330 -0.688423  0.186908   \n",
      "59999 -0.959168  1.984428 -0.885507  ...  0.217699  0.197859  0.517859   \n",
      "\n",
      "            V24       V25       V26       V27       V28  Amount  Class  \n",
      "0      0.066928  0.128539 -0.189115  0.133558 -0.021053  149.62      0  \n",
      "1     -0.339846  0.167170  0.125895 -0.008983  0.014724    2.69      0  \n",
      "2     -0.689281 -0.327642 -0.139097 -0.055353 -0.059752  378.66      0  \n",
      "3     -1.175575  0.647376 -0.221929  0.062723  0.061458  123.50      0  \n",
      "4      0.141267 -0.206010  0.502292  0.219422  0.215153   69.99      0  \n",
      "...         ...       ...       ...       ...       ...     ...    ...  \n",
      "59995  0.063870  0.354229  0.965341 -0.140004  0.095971  359.40      0  \n",
      "59996 -0.338195  0.231557 -0.582851  0.039972  0.030569   70.35      0  \n",
      "59997  0.160136  0.136173 -0.231982  0.067534  0.029854   27.45      0  \n",
      "59998  0.143570  0.034967  0.098742 -0.020336  0.016581    4.49      0  \n",
      "59999 -0.638766 -0.763836  0.151040 -0.714137 -0.371615   27.63      0  \n",
      "\n",
      "[60000 rows x 31 columns]\n"
     ]
    }
   ],
   "source": [
    "# Load data into pandas DataFrame\n",
    "df = pd.read_csv('C:/Users/Amarkou/Documents/Ecourse/creditcard.csv')\n",
    "# Select the first 30,000 rows of the DataFrame\n",
    "df = df.head(60000)\n",
    "\n",
    "# Print the shape of the sampled DataFrame\n",
    "print(df)"
   ]
  },
  {
   "cell_type": "markdown",
   "id": "bdba1432",
   "metadata": {},
   "source": [
    "# Supervised Learning Modelling Process"
   ]
  },
  {
   "cell_type": "markdown",
   "id": "86011109",
   "metadata": {},
   "source": [
    "## Split data into training and testing sets"
   ]
  },
  {
   "cell_type": "code",
   "execution_count": 3,
   "id": "adf1f2c1",
   "metadata": {},
   "outputs": [],
   "source": [
    "X_train, X_test, y_train, y_test = train_test_split(df.iloc[:, :-1], df.iloc[:, -1], test_size=0.3, random_state=42)"
   ]
  },
  {
   "cell_type": "markdown",
   "id": "93d63355",
   "metadata": {},
   "source": [
    "## Define hyperparameters to tune for each algorithm"
   ]
  },
  {
   "cell_type": "code",
   "execution_count": 4,
   "id": "cf87c654",
   "metadata": {},
   "outputs": [],
   "source": [
    "lr_params = {'C': [0.1, 1, 10], 'penalty': ['l1', 'l2'], 'solver': ['liblinear']}\n",
    "dt_params = {'criterion': ['gini', 'entropy'], 'max_depth': [5, 10, 20]}\n",
    "nb_params = {}\n",
    "#svm_params = {'C': [0.1, 1, 10], 'kernel': ['linear', 'poly', 'rbf', 'sigmoid']}\n",
    "#nn_params = {'hidden_layer_sizes': [(50,), (100,), (50, 50)], 'activation': ['relu', 'logistic'], 'solver': ['adam', 'sgd'], 'alpha': [0.0001, 0.001, 0.01]}"
   ]
  },
  {
   "cell_type": "markdown",
   "id": "3fce2180",
   "metadata": {},
   "source": [
    "## Train and Test the models"
   ]
  },
  {
   "cell_type": "code",
   "execution_count": 5,
   "id": "82f3ada1",
   "metadata": {},
   "outputs": [],
   "source": [
    "# Logistic regression\n",
    "lr = LogisticRegression(max_iter=1000)\n",
    "lr_gs = GridSearchCV(lr, lr_params, scoring='roc_auc', cv=5)\n",
    "lr_gs.fit(X_train, y_train)\n",
    "lr_preds = lr_gs.predict(X_test)\n",
    "\n",
    "# Decision trees\n",
    "dt = DecisionTreeClassifier()\n",
    "dt_gs = GridSearchCV(dt, dt_params, scoring='roc_auc', cv=5)\n",
    "dt_gs.fit(X_train, y_train)\n",
    "dt_preds = dt_gs.predict(X_test)\n",
    "\n",
    "# Naive Bayes\n",
    "nb = GaussianNB()\n",
    "nb_gs = GridSearchCV(nb, nb_params, scoring='roc_auc', cv=5)\n",
    "nb_gs.fit(X_train, y_train)\n",
    "nb_preds = nb_gs.predict(X_test)\n",
    "\n",
    "# SVM\n",
    "#svm = SVC(probability=True,max_iter=1000)\n",
    "#svm_gs = GridSearchCV(svm, svm_params, scoring='roc_auc', cv=5)\n",
    "#svm_gs.fit(X_train, y_train)\n",
    "#svm_preds = svm_gs.predict(X_test)\n",
    "\n",
    "# Neural Networks\n",
    "#nn = MLPClassifier(max_iter=1000)\n",
    "#nn_gs = GridSearchCV(nn, nn_params, scoring='roc_auc', cv=5)\n",
    "#nn_gs.fit(X_train, y_train)\n",
    "#nn_preds = nn_gs.predict(X_test)"
   ]
  },
  {
   "cell_type": "markdown",
   "id": "bffa9b31",
   "metadata": {},
   "source": [
    "## Evaluation of algorithms"
   ]
  },
  {
   "cell_type": "code",
   "execution_count": 6,
   "id": "dffe847a",
   "metadata": {},
   "outputs": [
    {
     "name": "stdout",
     "output_type": "stream",
     "text": [
      "Logistic Regression Metrics:\n",
      "Accuracy: 0.9981666666666666\n",
      "Precision: 0.8611111111111112\n",
      "Recall: 0.5254237288135594\n",
      "F1 Score: 0.6526315789473686\n",
      "AUC Score: 0.7625725187738718\n",
      "\n",
      "\n",
      "Decision Trees Metrics:\n",
      "Accuracy: 0.9990555555555556\n",
      "Precision: 0.9565217391304348\n",
      "Recall: 0.7457627118644068\n",
      "F1 Score: 0.8380952380952381\n",
      "AUC Score: 0.8728256176790402\n",
      "\n",
      "\n",
      "Naive Bayes Metrics:\n",
      "Accuracy: 0.985\n",
      "Precision: 0.1607717041800643\n",
      "Recall: 0.847457627118644\n",
      "F1 Score: 0.2702702702702703\n",
      "AUC Score: 0.9164549715215315\n",
      "\n",
      "\n"
     ]
    }
   ],
   "source": [
    "print(\"Logistic Regression Metrics:\")\n",
    "print(\"Accuracy:\", accuracy_score(y_test, lr_preds))\n",
    "print(\"Precision:\", precision_score(y_test, lr_preds))\n",
    "print(\"Recall:\", recall_score(y_test, lr_preds))\n",
    "print(\"F1 Score:\", f1_score(y_test, lr_preds))\n",
    "print(\"AUC Score:\", roc_auc_score(y_test, lr_preds))\n",
    "print(\"\\n\")\n",
    "\n",
    "print(\"Decision Trees Metrics:\")\n",
    "print(\"Accuracy:\", accuracy_score(y_test, dt_preds))\n",
    "print(\"Precision:\", precision_score(y_test, dt_preds))\n",
    "print(\"Recall:\", recall_score(y_test, dt_preds))\n",
    "print(\"F1 Score:\", f1_score(y_test, dt_preds))\n",
    "print(\"AUC Score:\", roc_auc_score(y_test, dt_preds))\n",
    "print(\"\\n\")\n",
    "\n",
    "print(\"Naive Bayes Metrics:\")\n",
    "print(\"Accuracy:\", accuracy_score(y_test, nb_preds))\n",
    "print(\"Precision:\", precision_score(y_test, nb_preds))\n",
    "print(\"Recall:\", recall_score(y_test, nb_preds))\n",
    "print(\"F1 Score:\", f1_score(y_test, nb_preds))\n",
    "print(\"AUC Score:\", roc_auc_score(y_test, nb_preds))\n",
    "print(\"\\n\")\n",
    "\n",
    "#print(\"SVM Metrics:\")\n",
    "#print(\"Accuracy:\", accuracy_score(y_test, svm_preds))\n",
    "#print(\"Precision:\", precision_score(y_test, svm_preds))\n",
    "#print(\"Recall:\", recall_score(y_test, svm_preds))\n",
    "#print(\"F1 Score:\", f1_score(y_test, svm_preds))\n",
    "#print(\"AUC Score:\", roc_auc_score(y_test, svm.predict_proba(X_test)[:, 1]))\n",
    "#print(\"\\n\")\n",
    "\n",
    "#print(\"Neural Networks Metrics:\")\n",
    "#print(\"Accuracy:\", accuracy_score(y_test, nn_preds))\n",
    "#print(\"Precision:\", precision_score(y_test, nn_preds))\n",
    "#print(\"Recall:\", recall_score(y_test, nn_preds))\n",
    "#print(\"F1 Score:\", f1_score(y_test, nn_preds))\n",
    "#print(\"AUC Score:\", roc_auc_score(y_test, nn.predict_proba(X_test)[:, 1]))\n",
    "#print(\"\\n\")"
   ]
  },
  {
   "cell_type": "markdown",
   "id": "cd56b327",
   "metadata": {},
   "source": [
    "## ROC Curve graph"
   ]
  },
  {
   "cell_type": "code",
   "execution_count": 7,
   "id": "e970ef38",
   "metadata": {},
   "outputs": [
    {
     "data": {
      "image/png": "[encoded data removed]",
      "text/plain": [
       "<Figure size 576x432 with 1 Axes>"
      ]
     },
     "metadata": {
      "needs_background": "light"
     },
     "output_type": "display_data"
    }
   ],
   "source": [
    "# Evaluation of algorithms (continued)\n",
    "fpr_lr, tpr_lr, thresholds_lr = roc_curve(y_test, lr_preds)\n",
    "fpr_dt, tpr_dt, thresholds_dt = roc_curve(y_test, dt_preds)\n",
    "#fpr_svm, tpr_svm, thresholds_svm = roc_curve(y_test, svm.predict_proba(X_test)[:, 1])\n",
    "fpr_nb, tpr_nb, thresholds_nb = roc_curve(y_test, nb_preds)\n",
    "#fpr_nn, tpr_nn, thresholds_nn = roc_curve(y_test, nn.predict_proba(X_test)[:, 1])\n",
    "\n",
    "plt.figure(figsize=(8, 6))\n",
    "plt.plot(fpr_lr, tpr_lr, label='Logistic Regression')\n",
    "plt.plot(fpr_dt, tpr_dt, label='Decision Trees')\n",
    "#plt.plot(fpr_svm, tpr_svm, label='SVM')\n",
    "plt.plot(fpr_nb, tpr_nb, label='Naive Bayes')\n",
    "#plt.plot(fpr_nn, tpr_nn, label='Neural Networks')\n",
    "plt.plot([0, 1], [0, 1], color='black', linestyle='--')\n",
    "plt.xlabel('False Positive Rate')\n",
    "plt.ylabel('True Positive Rate')\n",
    "plt.title('ROC Curve')\n",
    "plt.legend()\n",
    "plt.show()"
   ]
  },
  {
   "cell_type": "code",
   "execution_count": null,
   "id": "225d8cbe",
   "metadata": {},
   "outputs": [],
   "source": []
  }
 ],
 "metadata": {
  "kernelspec": {
   "display_name": "Python 3 (ipykernel)",
   "language": "python",
   "name": "python3"
  },
  "language_info": {
   "codemirror_mode": {
    "name": "ipython",
    "version": 3
   },
   "file_extension": ".py",
   "mimetype": "text/x-python",
   "name": "python",
   "nbconvert_exporter": "python",
   "pygments_lexer": "ipython3",
   "version": "3.9.7"
  }
 },
 "nbformat": 4,
 "nbformat_minor": 5
}
