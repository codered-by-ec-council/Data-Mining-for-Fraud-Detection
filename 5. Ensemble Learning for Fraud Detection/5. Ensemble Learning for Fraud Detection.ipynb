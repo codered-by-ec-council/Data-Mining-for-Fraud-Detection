{
 "cells": [
  {
   "cell_type": "markdown",
   "id": "258ec6b3",
   "metadata": {},
   "source": [
    "# Ensemble Learning for Fraud Detection"
   ]
  },
  {
   "cell_type": "markdown",
   "id": "5a60aa60",
   "metadata": {},
   "source": [
    "In this video, we will walk through a comprehensive process of applying unsupervised machine learning alogrithms using real-life data. We will train test and evaluate the following algorithms:\n",
    "\n",
    "Bagging\n",
    "\n",
    "Random Forest\n",
    "\n",
    "AdaBoost\n",
    "\n",
    "Gradient Boosting\n",
    "XGBoost\n",
    "Stacking\n",
    "Votin"
   ]
  },
  {
   "cell_type": "markdown",
   "id": "1660a9c8",
   "metadata": {},
   "source": [
    "# Import necessary libraries"
   ]
  },
  {
   "cell_type": "code",
   "execution_count": 1,
   "id": "abcc4bb0",
   "metadata": {},
   "outputs": [],
   "source": [
    "import numpy as np\n",
    "import pandas as pd\n",
    "import matplotlib.pyplot as plt\n",
    "import seaborn as sns\n",
    "\n",
    "from sklearn.model_selection import train_test_split, GridSearchCV\n",
    "from sklearn.metrics import confusion_matrix, accuracy_score, f1_score, roc_auc_score, classification_report\n",
    "from sklearn.ensemble import BaggingClassifier, RandomForestClassifier, AdaBoostClassifier, GradientBoostingClassifier\n",
    "from xgboost import XGBClassifier\n",
    "\n",
    "import warnings\n",
    "\n",
    "# Ignore all warnings\n",
    "warnings.filterwarnings(\"ignore\")"
   ]
  },
  {
   "cell_type": "markdown",
   "id": "26a70023",
   "metadata": {},
   "source": [
    "# Import the dataset"
   ]
  },
  {
   "cell_type": "code",
   "execution_count": 2,
   "id": "ad7d33f8",
   "metadata": {},
   "outputs": [],
   "source": [
    "# Load data into pandas DataFrame\n",
    "df = pd.read_csv('C:/Users/Amarkou/Documents/Ecourse/creditcard.csv')\n",
    "# Select the first 30,000 rows of the DataFrame\n",
    "df = df.head(30000)"
   ]
  },
  {
   "cell_type": "markdown",
   "id": "72ccaa59",
   "metadata": {},
   "source": [
    "# Split data into training and testing sets"
   ]
  },
  {
   "cell_type": "code",
   "execution_count": 4,
   "id": "47f09cc3",
   "metadata": {},
   "outputs": [],
   "source": [
    "# Split the dataset into features and target\n",
    "X = df.drop('Class', axis=1)\n",
    "y = df['Class']\n",
    "\n",
    "# Split the dataset into training and testing sets\n",
    "X_train, X_test, y_train, y_test = train_test_split(X, y, test_size=0.3, random_state=42)"
   ]
  },
  {
   "cell_type": "markdown",
   "id": "5e1260b4",
   "metadata": {},
   "source": [
    "# Create a function to train, evaluate, and visualize the performance of each model:"
   ]
  },
  {
   "cell_type": "code",
   "execution_count": 5,
   "id": "eaee3e31",
   "metadata": {},
   "outputs": [],
   "source": [
    "def train_and_evaluate_model(model, X_train, y_train, X_test, y_test):\n",
    "    model.fit(X_train, y_train)\n",
    "    y_pred = model.predict(X_test)\n",
    "    accuracy = accuracy_score(y_test, y_pred)\n",
    "    f1 = f1_score(y_test, y_pred)\n",
    "    roc_auc = roc_auc_score(y_test, y_pred)\n",
    "\n",
    "    print(f\"Accuracy: {accuracy}\")\n",
    "    print(f\"F1 Score: {f1}\")\n",
    "    print(f\"ROC-AUC Score: {roc_auc}\")\n",
    "    print(\"\\nClassification Report:\")\n",
    "    print(classification_report(y_test, y_pred))\n",
    "\n",
    "    # Plot the confusion matrix\n",
    "    cm = confusion_matrix(y_test, y_pred)\n",
    "    sns.heatmap(cm, annot=True, fmt='d', cmap='Blues', cbar=False)\n",
    "    plt.xlabel('Predicted')\n",
    "    plt.ylabel('Actual')\n",
    "    plt.title('Confusion Matrix')\n",
    "    plt.show()\n",
    "\n",
    "    return model"
   ]
  },
  {
   "cell_type": "code",
   "execution_count": 6,
   "id": "08389281",
   "metadata": {},
   "outputs": [
    {
     "name": "stdout",
     "output_type": "stream",
     "text": [
      "Accuracy: 0.9991111111111111\n",
      "F1 Score: 0.8709677419354839\n",
      "ROC-AUC Score: 0.908979389073066\n",
      "\n",
      "Classification Report:\n",
      "              precision    recall  f1-score   support\n",
      "\n",
      "           0       1.00      1.00      1.00      8967\n",
      "           1       0.93      0.82      0.87        33\n",
      "\n",
      "    accuracy                           1.00      9000\n",
      "   macro avg       0.97      0.91      0.94      9000\n",
      "weighted avg       1.00      1.00      1.00      9000\n",
      "\n"
     ]
    },
    {
     "data": {
      "image/png": "[encoded data removed]",
      "text/plain": [
       "<Figure size 432x288 with 1 Axes>"
      ]
     },
     "metadata": {
      "needs_background": "light"
     },
     "output_type": "display_data"
    },
    {
     "name": "stdout",
     "output_type": "stream",
     "text": [
      "Accuracy: 0.999\n",
      "F1 Score: 0.8474576271186441\n",
      "ROC-AUC Score: 0.8787321187789572\n",
      "\n",
      "Classification Report:\n",
      "              precision    recall  f1-score   support\n",
      "\n",
      "           0       1.00      1.00      1.00      8967\n",
      "           1       0.96      0.76      0.85        33\n",
      "\n",
      "    accuracy                           1.00      9000\n",
      "   macro avg       0.98      0.88      0.92      9000\n",
      "weighted avg       1.00      1.00      1.00      9000\n",
      "\n"
     ]
    },
    {
     "data": {
      "image/png": "[encoded data removed]",
      "text/plain": [
       "<Figure size 432x288 with 1 Axes>"
      ]
     },
     "metadata": {
      "needs_background": "light"
     },
     "output_type": "display_data"
    },
    {
     "name": "stdout",
     "output_type": "stream",
     "text": [
      "Accuracy: 0.999\n",
      "F1 Score: 0.8524590163934426\n",
      "ROC-AUC Score: 0.8938278739215507\n",
      "\n",
      "Classification Report:\n",
      "              precision    recall  f1-score   support\n",
      "\n",
      "           0       1.00      1.00      1.00      8967\n",
      "           1       0.93      0.79      0.85        33\n",
      "\n",
      "    accuracy                           1.00      9000\n",
      "   macro avg       0.96      0.89      0.93      9000\n",
      "weighted avg       1.00      1.00      1.00      9000\n",
      "\n"
     ]
    },
    {
     "data": {
      "image/png": "[encoded data removed]",
      "text/plain": [
       "<Figure size 432x288 with 1 Axes>"
      ]
     },
     "metadata": {
      "needs_background": "light"
     },
     "output_type": "display_data"
    },
    {
     "name": "stdout",
     "output_type": "stream",
     "text": [
      "Accuracy: 0.9982222222222222\n",
      "F1 Score: 0.7714285714285715\n",
      "ROC-AUC Score: 0.9085333090016932\n",
      "\n",
      "Classification Report:\n",
      "              precision    recall  f1-score   support\n",
      "\n",
      "           0       1.00      1.00      1.00      8967\n",
      "           1       0.73      0.82      0.77        33\n",
      "\n",
      "    accuracy                           1.00      9000\n",
      "   macro avg       0.86      0.91      0.89      9000\n",
      "weighted avg       1.00      1.00      1.00      9000\n",
      "\n"
     ]
    },
    {
     "data": {
      "image/png": "[encoded data removed]",
      "text/plain": [
       "<Figure size 432x288 with 1 Axes>"
      ]
     },
     "metadata": {
      "needs_background": "light"
     },
     "output_type": "display_data"
    },
    {
     "name": "stdout",
     "output_type": "stream",
     "text": [
      "Accuracy: 0.9994444444444445\n",
      "F1 Score: 0.9180327868852458\n",
      "ROC-AUC Score: 0.9242424242424243\n",
      "\n",
      "Classification Report:\n",
      "              precision    recall  f1-score   support\n",
      "\n",
      "           0       1.00      1.00      1.00      8967\n",
      "           1       1.00      0.85      0.92        33\n",
      "\n",
      "    accuracy                           1.00      9000\n",
      "   macro avg       1.00      0.92      0.96      9000\n",
      "weighted avg       1.00      1.00      1.00      9000\n",
      "\n"
     ]
    },
    {
     "data": {
      "image/png": "[encoded data removed]",
      "text/plain": [
       "<Figure size 432x288 with 1 Axes>"
      ]
     },
     "metadata": {
      "needs_background": "light"
     },
     "output_type": "display_data"
    }
   ],
   "source": [
    "# Bagging\n",
    "bagging = BaggingClassifier()\n",
    "bagging = train_and_evaluate_model(bagging, X_train, y_train, X_test, y_test)\n",
    "\n",
    "# Random Forest\n",
    "random_forest = RandomForestClassifier()\n",
    "random_forest = train_and_evaluate_model(random_forest, X_train, y_train, X_test, y_test)\n",
    "\n",
    "# AdaBoost\n",
    "adaboost = AdaBoostClassifier()\n",
    "adaboost = train_and_evaluate_model(adaboost, X_train, y_train, X_test, y_test)\n",
    "\n",
    "# Gradient Boosting\n",
    "gradient_boosting = GradientBoostingClassifier()\n",
    "gradient_boosting = train_and_evaluate_model(gradient_boosting, X_train, y_train, X_test, y_test)\n",
    "\n",
    "# XGBoost\n",
    "xgboost = XGBClassifier(use_label_encoder=False, eval_metric='logloss')\n",
    "xgboost = train_and_evaluate_model(xgboost, X_train, y_train, X_test, y_test)"
   ]
  },
  {
   "cell_type": "markdown",
   "id": "4154c7f2",
   "metadata": {},
   "source": [
    "# Do the same process for Stacking and Voting"
   ]
  },
  {
   "cell_type": "code",
   "execution_count": 7,
   "id": "023fb95b",
   "metadata": {},
   "outputs": [],
   "source": [
    "from sklearn.ensemble import StackingClassifier, VotingClassifier\n",
    "from sklearn.linear_model import LogisticRegression\n",
    "from sklearn.tree import DecisionTreeClassifier\n",
    "from sklearn.svm import SVC\n"
   ]
  },
  {
   "cell_type": "code",
   "execution_count": 8,
   "id": "a45b755c",
   "metadata": {},
   "outputs": [],
   "source": [
    "def train_and_evaluate_ensemble_model(model, X_train, y_train, X_test, y_test):\n",
    "    model.fit(X_train, y_train)\n",
    "    y_pred = model.predict(X_test)\n",
    "    accuracy = accuracy_score(y_test, y_pred)\n",
    "    f1 = f1_score(y_test, y_pred)\n",
    "    roc_auc = roc_auc_score(y_test, y_pred)\n",
    "\n",
    "    print(f\"Accuracy: {accuracy}\")\n",
    "    print(f\"F1 Score: {f1}\")\n",
    "    print(f\"ROC-AUC Score: {roc_auc}\")\n",
    "    print(\"\\nClassification Report:\")\n",
    "    print(classification_report(y_test, y_pred))\n",
    "\n",
    "    # Plot the confusion matrix\n",
    "    cm = confusion_matrix(y_test, y_pred)\n",
    "    sns.heatmap(cm, annot=True, fmt='d', cmap='Blues', cbar=False)\n",
    "    plt.xlabel('Predicted')\n",
    "    plt.ylabel('Actual')\n",
    "    plt.title('Confusion Matrix')\n",
    "    plt.show()\n"
   ]
  },
  {
   "cell_type": "markdown",
   "id": "390b14ab",
   "metadata": {},
   "source": [
    "# Determine the base models"
   ]
  },
  {
   "cell_type": "code",
   "execution_count": 9,
   "id": "85f7211e",
   "metadata": {},
   "outputs": [],
   "source": [
    "# Base models\n",
    "lr = LogisticRegression()\n",
    "dt = DecisionTreeClassifier()\n",
    "svm = SVC(probability=True)\n",
    "\n",
    "base_models = [\n",
    "    ('logistic_regression', lr),\n",
    "    ('decision_tree', dt),\n",
    "    ('support_vector_machine', svm),\n",
    "]\n"
   ]
  },
  {
   "cell_type": "code",
   "execution_count": 10,
   "id": "8aa23b9f",
   "metadata": {},
   "outputs": [
    {
     "name": "stdout",
     "output_type": "stream",
     "text": [
      "Stacking Classifier:\n",
      "Accuracy: 0.998\n",
      "F1 Score: 0.64\n",
      "ROC-AUC Score: 0.7423684824153208\n",
      "\n",
      "Classification Report:\n",
      "              precision    recall  f1-score   support\n",
      "\n",
      "           0       1.00      1.00      1.00      8967\n",
      "           1       0.94      0.48      0.64        33\n",
      "\n",
      "    accuracy                           1.00      9000\n",
      "   macro avg       0.97      0.74      0.82      9000\n",
      "weighted avg       1.00      1.00      1.00      9000\n",
      "\n"
     ]
    },
    {
     "data": {
      "image/png": "[encoded data removed]",
      "text/plain": [
       "<Figure size 432x288 with 1 Axes>"
      ]
     },
     "metadata": {
      "needs_background": "light"
     },
     "output_type": "display_data"
    }
   ],
   "source": [
    "# Stacking\n",
    "meta_model = LogisticRegression()\n",
    "stacking = StackingClassifier(estimators=base_models, final_estimator=meta_model)\n",
    "print(\"Stacking Classifier:\")\n",
    "stacking = train_and_evaluate_ensemble_model(stacking, X_train, y_train, X_test, y_test)\n"
   ]
  },
  {
   "cell_type": "code",
   "execution_count": 11,
   "id": "e505ec84",
   "metadata": {},
   "outputs": [
    {
     "name": "stdout",
     "output_type": "stream",
     "text": [
      "Voting Classifier:\n",
      "Accuracy: 0.9977777777777778\n",
      "F1 Score: 0.5652173913043478\n",
      "ROC-AUC Score: 0.696969696969697\n",
      "\n",
      "Classification Report:\n",
      "              precision    recall  f1-score   support\n",
      "\n",
      "           0       1.00      1.00      1.00      8967\n",
      "           1       1.00      0.39      0.57        33\n",
      "\n",
      "    accuracy                           1.00      9000\n",
      "   macro avg       1.00      0.70      0.78      9000\n",
      "weighted avg       1.00      1.00      1.00      9000\n",
      "\n"
     ]
    },
    {
     "data": {
      "image/png": "[encoded data removed]",
      "text/plain": [
       "<Figure size 432x288 with 1 Axes>"
      ]
     },
     "metadata": {
      "needs_background": "light"
     },
     "output_type": "display_data"
    }
   ],
   "source": [
    "# Voting\n",
    "voting = VotingClassifier(estimators=base_models, voting='soft')\n",
    "print(\"Voting Classifier:\")\n",
    "voting = train_and_evaluate_ensemble_model(voting, X_train, y_train, X_test, y_test)\n"
   ]
  },
  {
   "cell_type": "code",
   "execution_count": null,
   "id": "fb08acfd",
   "metadata": {},
   "outputs": [],
   "source": []
  }
 ],
 "metadata": {
  "kernelspec": {
   "display_name": "Python 3 (ipykernel)",
   "language": "python",
   "name": "python3"
  },
  "language_info": {
   "codemirror_mode": {
    "name": "ipython",
    "version": 3
   },
   "file_extension": ".py",
   "mimetype": "text/x-python",
   "name": "python",
   "nbconvert_exporter": "python",
   "pygments_lexer": "ipython3",
   "version": "3.9.7"
  }
 },
 "nbformat": 4,
 "nbformat_minor": 5
}
